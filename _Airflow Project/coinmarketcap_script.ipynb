{
 "cells": [
  {
   "cell_type": "code",
   "execution_count": 1,
   "id": "aaa3aedc",
   "metadata": {},
   "outputs": [],
   "source": [
    "import pandas as pd\n",
    "from requests import Request, Session\n",
    "from requests.exceptions import ConnectionError, Timeout, TooManyRedirects\n",
    "import json\n",
    "from datetime import datetime\n",
    "import s3fs\n",
    "\n",
    "def run_api():\n",
    "    global df\n",
    "    url = 'https://pro-api.coinmarketcap.com/v1/cryptocurrency/listings/latest' \n",
    "    parameters = {\n",
    "      'start':'1',\n",
    "      'limit':'100',\n",
    "      'convert':'USD'\n",
    "    }\n",
    "    headers = {\n",
    "      'Accepts': 'application/json',\n",
    "          'X-CMC_PRO_API_KEY': 'ae69b8ff-5418-4ce1-8908-a1d9ec1cdbb8',\n",
    "    }\n",
    "\n",
    "    session = Session()\n",
    "    session.headers.update(headers)\n",
    "\n",
    "    try:\n",
    "      response = session.get(url, params=parameters)\n",
    "      data = json.loads(response.text)\n",
    "      df = pd.json_normalize(data['data'])\n",
    "      pd.set_option('display.max_columns', None)\n",
    "      pd.set_option('display.max_rows', None)\n",
    "      df['timestamp'] = pd.to_datetime('now')\n",
    "      #print(data)\n",
    "\n",
    "    except (ConnectionError, Timeout, TooManyRedirects) as e:\n",
    "      print(e)\n",
    "    \n",
    "\n",
    "run_api()\n",
    "\n",
    "\n",
    "df.to_csv('s3://ck-airflow-project/version1.csv')"
   ]
  },
  {
   "cell_type": "code",
   "execution_count": null,
   "id": "a31be16e",
   "metadata": {},
   "outputs": [],
   "source": []
  },
  {
   "cell_type": "code",
   "execution_count": null,
   "id": "82889a33",
   "metadata": {},
   "outputs": [],
   "source": []
  },
  {
   "cell_type": "code",
   "execution_count": null,
   "id": "17efd2bd",
   "metadata": {},
   "outputs": [],
   "source": []
  }
 ],
 "metadata": {
  "kernelspec": {
   "display_name": "Python 3 (ipykernel)",
   "language": "python",
   "name": "python3"
  },
  "language_info": {
   "codemirror_mode": {
    "name": "ipython",
    "version": 3
   },
   "file_extension": ".py",
   "mimetype": "text/x-python",
   "name": "python",
   "nbconvert_exporter": "python",
   "pygments_lexer": "ipython3",
   "version": "3.11.5"
  }
 },
 "nbformat": 4,
 "nbformat_minor": 5
}
